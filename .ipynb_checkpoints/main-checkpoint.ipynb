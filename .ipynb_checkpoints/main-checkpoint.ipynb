{
 "cells": [
  {
   "cell_type": "code",
   "execution_count": 80,
   "metadata": {},
   "outputs": [],
   "source": [
    " # Dependencies and Setup\n",
    "import pandas as pd"
   ]
  },
  {
   "cell_type": "code",
   "execution_count": 81,
   "metadata": {},
   "outputs": [],
   "source": [
    "# File to Load \n",
    "file_to_load = \"/Users/Grant/UCSD Bootcamp/Class Downloads/purchase_data.csv\"\n",
    "\n",
    "# Read Purchasing File and store into Pandas data frame\n",
    "df = pd.read_csv(file_to_load)"
   ]
  },
  {
   "cell_type": "code",
   "execution_count": 82,
   "metadata": {},
   "outputs": [
    {
     "data": {
      "text/html": [
       "<div>\n",
       "<style scoped>\n",
       "    .dataframe tbody tr th:only-of-type {\n",
       "        vertical-align: middle;\n",
       "    }\n",
       "\n",
       "    .dataframe tbody tr th {\n",
       "        vertical-align: top;\n",
       "    }\n",
       "\n",
       "    .dataframe thead th {\n",
       "        text-align: right;\n",
       "    }\n",
       "</style>\n",
       "<table border=\"1\" class=\"dataframe\">\n",
       "  <thead>\n",
       "    <tr style=\"text-align: right;\">\n",
       "      <th></th>\n",
       "      <th>Purchase ID</th>\n",
       "      <th>SN</th>\n",
       "      <th>Age</th>\n",
       "      <th>Gender</th>\n",
       "      <th>Item ID</th>\n",
       "      <th>Item Name</th>\n",
       "      <th>Price</th>\n",
       "    </tr>\n",
       "  </thead>\n",
       "  <tbody>\n",
       "    <tr>\n",
       "      <th>0</th>\n",
       "      <td>0</td>\n",
       "      <td>Lisim78</td>\n",
       "      <td>20</td>\n",
       "      <td>Male</td>\n",
       "      <td>108</td>\n",
       "      <td>Extraction, Quickblade Of Trembling Hands</td>\n",
       "      <td>3.53</td>\n",
       "    </tr>\n",
       "    <tr>\n",
       "      <th>1</th>\n",
       "      <td>1</td>\n",
       "      <td>Lisovynya38</td>\n",
       "      <td>40</td>\n",
       "      <td>Male</td>\n",
       "      <td>143</td>\n",
       "      <td>Frenzied Scimitar</td>\n",
       "      <td>1.56</td>\n",
       "    </tr>\n",
       "    <tr>\n",
       "      <th>2</th>\n",
       "      <td>2</td>\n",
       "      <td>Ithergue48</td>\n",
       "      <td>24</td>\n",
       "      <td>Male</td>\n",
       "      <td>92</td>\n",
       "      <td>Final Critic</td>\n",
       "      <td>4.88</td>\n",
       "    </tr>\n",
       "    <tr>\n",
       "      <th>3</th>\n",
       "      <td>3</td>\n",
       "      <td>Chamassasya86</td>\n",
       "      <td>24</td>\n",
       "      <td>Male</td>\n",
       "      <td>100</td>\n",
       "      <td>Blindscythe</td>\n",
       "      <td>3.27</td>\n",
       "    </tr>\n",
       "    <tr>\n",
       "      <th>4</th>\n",
       "      <td>4</td>\n",
       "      <td>Iskosia90</td>\n",
       "      <td>23</td>\n",
       "      <td>Male</td>\n",
       "      <td>131</td>\n",
       "      <td>Fury</td>\n",
       "      <td>1.44</td>\n",
       "    </tr>\n",
       "  </tbody>\n",
       "</table>\n",
       "</div>"
      ],
      "text/plain": [
       "   Purchase ID             SN  Age Gender  Item ID  \\\n",
       "0            0        Lisim78   20   Male      108   \n",
       "1            1    Lisovynya38   40   Male      143   \n",
       "2            2     Ithergue48   24   Male       92   \n",
       "3            3  Chamassasya86   24   Male      100   \n",
       "4            4      Iskosia90   23   Male      131   \n",
       "\n",
       "                                   Item Name  Price  \n",
       "0  Extraction, Quickblade Of Trembling Hands   3.53  \n",
       "1                          Frenzied Scimitar   1.56  \n",
       "2                               Final Critic   4.88  \n",
       "3                                Blindscythe   3.27  \n",
       "4                                       Fury   1.44  "
      ]
     },
     "execution_count": 82,
     "metadata": {},
     "output_type": "execute_result"
    }
   ],
   "source": [
    "df.head()"
   ]
  },
  {
   "cell_type": "code",
   "execution_count": 83,
   "metadata": {},
   "outputs": [
    {
     "name": "stdout",
     "output_type": "stream",
     "text": [
      "Total Players: 576\n"
     ]
    }
   ],
   "source": [
    "#Player Count\n",
    "player_count=len(df[\"SN\"].unique())\n",
    "print(f\"Total Players: {player_count}\")"
   ]
  },
  {
   "cell_type": "code",
   "execution_count": 84,
   "metadata": {},
   "outputs": [
    {
     "name": "stdout",
     "output_type": "stream",
     "text": [
      "Number of Unique Items: 183\n"
     ]
    }
   ],
   "source": [
    "#Unique Items\n",
    "unique_item_count=len(df[\"Item ID\"].unique())\n",
    "print(f\"Number of Unique Items: {unique_item_count}\")"
   ]
  },
  {
   "cell_type": "code",
   "execution_count": 85,
   "metadata": {},
   "outputs": [
    {
     "name": "stdout",
     "output_type": "stream",
     "text": [
      "Average Price: $3.05\n"
     ]
    }
   ],
   "source": [
    "#Average Price\n",
    "average_price=df[\"Price\"].mean()\n",
    "average_price='${:,.2f}'.format(average_price)\n",
    "print(f\"Average Price: {average_price}\")"
   ]
  },
  {
   "cell_type": "code",
   "execution_count": 86,
   "metadata": {},
   "outputs": [
    {
     "name": "stdout",
     "output_type": "stream",
     "text": [
      "Number of Purchase: 780\n"
     ]
    }
   ],
   "source": [
    "#Number of Purchases\n",
    "purchase_count=len(df)\n",
    "print(f\"Number of Purchase: {purchase_count}\")"
   ]
  },
  {
   "cell_type": "code",
   "execution_count": 87,
   "metadata": {},
   "outputs": [
    {
     "name": "stdout",
     "output_type": "stream",
     "text": [
      "Total Revenue: $2,379.77\n"
     ]
    }
   ],
   "source": [
    "#Total Revenue\n",
    "total_revenue=sum(df[\"Price\"])\n",
    "total_revenue='${:,.2f}'.format(total_revenue)\n",
    "print(f\"Total Revenue: {total_revenue}\")"
   ]
  },
  {
   "cell_type": "code",
   "execution_count": 88,
   "metadata": {},
   "outputs": [
    {
     "data": {
      "text/html": [
       "<div>\n",
       "<style scoped>\n",
       "    .dataframe tbody tr th:only-of-type {\n",
       "        vertical-align: middle;\n",
       "    }\n",
       "\n",
       "    .dataframe tbody tr th {\n",
       "        vertical-align: top;\n",
       "    }\n",
       "\n",
       "    .dataframe thead th {\n",
       "        text-align: right;\n",
       "    }\n",
       "</style>\n",
       "<table border=\"1\" class=\"dataframe\">\n",
       "  <thead>\n",
       "    <tr style=\"text-align: right;\">\n",
       "      <th></th>\n",
       "      <th>Number of Unique Items</th>\n",
       "      <th>Average Price</th>\n",
       "      <th>Number of Purchases</th>\n",
       "      <th>Total Revenue</th>\n",
       "    </tr>\n",
       "  </thead>\n",
       "  <tbody>\n",
       "    <tr>\n",
       "      <th>0</th>\n",
       "      <td>183</td>\n",
       "      <td>$3.05</td>\n",
       "      <td>780</td>\n",
       "      <td>$2,379.77</td>\n",
       "    </tr>\n",
       "  </tbody>\n",
       "</table>\n",
       "</div>"
      ],
      "text/plain": [
       "   Number of Unique Items Average Price  Number of Purchases Total Revenue\n",
       "0                     183         $3.05                  780     $2,379.77"
      ]
     },
     "execution_count": 88,
     "metadata": {},
     "output_type": "execute_result"
    }
   ],
   "source": [
    "#Summarize in Dataframe \n",
    "summary_df=pd.DataFrame({\"Number of Unique Items\":[unique_item_count],\"Average Price\":[average_price],\n",
    "                         \"Number of Purchases\":[purchase_count],\"Total Revenue\":[total_revenue]},\n",
    "                       columns=[\"Number of Unique Items\",\"Average Price\",\"Number of Purchases\",\"Total Revenue\"])\n",
    "summary_df\n"
   ]
  },
  {
   "cell_type": "code",
   "execution_count": 99,
   "metadata": {
    "scrolled": true
   },
   "outputs": [
    {
     "data": {
      "text/plain": [
       "484"
      ]
     },
     "execution_count": 99,
     "metadata": {},
     "output_type": "execute_result"
    }
   ],
   "source": [
    "#Total unique male players (using nunique)\n",
    "males=df.loc[(df[\"Gender\"]==\"Male\")].nunique()\n",
    "male_total=males['SN']\n",
    "male_total"
   ]
  },
  {
   "cell_type": "code",
   "execution_count": 100,
   "metadata": {},
   "outputs": [
    {
     "data": {
      "text/plain": [
       "81"
      ]
     },
     "execution_count": 100,
     "metadata": {},
     "output_type": "execute_result"
    }
   ],
   "source": [
    "#Total unique female players (using len)\n",
    "female_only=df.loc[(df[\"Gender\"]==\"Female\")]\n",
    "female_total=len(female_only[\"SN\"].unique())\n",
    "female_total"
   ]
  },
  {
   "cell_type": "code",
   "execution_count": 101,
   "metadata": {},
   "outputs": [
    {
     "data": {
      "text/plain": [
       "11"
      ]
     },
     "execution_count": 101,
     "metadata": {},
     "output_type": "execute_result"
    }
   ],
   "source": [
    "#Total unique other players\n",
    "other_only=df.loc[(df[\"Gender\"]==\"Other / Non-Disclosed\")]\n",
    "other_total=len(other_only[\"SN\"].unique())\n",
    "other_total"
   ]
  },
  {
   "cell_type": "code",
   "execution_count": 102,
   "metadata": {},
   "outputs": [
    {
     "data": {
      "text/html": [
       "<div>\n",
       "<style scoped>\n",
       "    .dataframe tbody tr th:only-of-type {\n",
       "        vertical-align: middle;\n",
       "    }\n",
       "\n",
       "    .dataframe tbody tr th {\n",
       "        vertical-align: top;\n",
       "    }\n",
       "\n",
       "    .dataframe thead th {\n",
       "        text-align: right;\n",
       "    }\n",
       "</style>\n",
       "<table border=\"1\" class=\"dataframe\">\n",
       "  <thead>\n",
       "    <tr style=\"text-align: right;\">\n",
       "      <th></th>\n",
       "      <th>Total Count</th>\n",
       "      <th>Percentage</th>\n",
       "    </tr>\n",
       "  </thead>\n",
       "  <tbody>\n",
       "    <tr>\n",
       "      <th>Male</th>\n",
       "      <td>484</td>\n",
       "      <td>0.840278</td>\n",
       "    </tr>\n",
       "    <tr>\n",
       "      <th>Female</th>\n",
       "      <td>81</td>\n",
       "      <td>0.140625</td>\n",
       "    </tr>\n",
       "    <tr>\n",
       "      <th>Other / Non-Disclosed</th>\n",
       "      <td>11</td>\n",
       "      <td>0.019097</td>\n",
       "    </tr>\n",
       "  </tbody>\n",
       "</table>\n",
       "</div>"
      ],
      "text/plain": [
       "                       Total Count  Percentage\n",
       "Male                           484    0.840278\n",
       "Female                          81    0.140625\n",
       "Other / Non-Disclosed           11    0.019097"
      ]
     },
     "execution_count": 102,
     "metadata": {},
     "output_type": "execute_result"
    }
   ],
   "source": [
    "#Summarize gender in dataframe\n",
    "demographics_df=pd.DataFrame({\"Total Count\":[male_total, female_total, other_total],\n",
    "                        \"Percentage\":[(male_total/player_count),(female_total/player_count),(other_total/player_count)]},\n",
    "                       index=[\"Male\",\"Female\",\"Other / Non-Disclosed\"],\n",
    "                      columns=[\"Total Count\",\"Percentage\"])\n",
    "demographics_df"
   ]
  },
  {
   "cell_type": "code",
   "execution_count": 103,
   "metadata": {},
   "outputs": [],
   "source": [
    "by_gender=df.groupby(\"Gender\")"
   ]
  },
  {
   "cell_type": "code",
   "execution_count": 105,
   "metadata": {},
   "outputs": [
    {
     "data": {
      "text/plain": [
       "Gender\n",
       "Female                   113\n",
       "Male                     652\n",
       "Other / Non-Disclosed     15\n",
       "Name: Purchase ID, dtype: int64"
      ]
     },
     "execution_count": 105,
     "metadata": {},
     "output_type": "execute_result"
    }
   ],
   "source": [
    "#Purchase Count by Gender\n",
    "purchase_count_gender=by_gender['Purchase ID'].count()\n",
    "purchase_count_gender"
   ]
  },
  {
   "cell_type": "code",
   "execution_count": 106,
   "metadata": {},
   "outputs": [
    {
     "data": {
      "text/plain": [
       "Gender\n",
       "Female                   3.203009\n",
       "Male                     3.017853\n",
       "Other / Non-Disclosed    3.346000\n",
       "Name: Price, dtype: float64"
      ]
     },
     "execution_count": 106,
     "metadata": {},
     "output_type": "execute_result"
    }
   ],
   "source": [
    "#Average purchas price by Gender\n",
    "avg_price_gender=by_gender['Price'].mean()\n",
    "avg_price_gender"
   ]
  },
  {
   "cell_type": "code",
   "execution_count": 107,
   "metadata": {},
   "outputs": [
    {
     "data": {
      "text/plain": [
       "Gender\n",
       "Female                    361.94\n",
       "Male                     1967.64\n",
       "Other / Non-Disclosed      50.19\n",
       "Name: Price, dtype: float64"
      ]
     },
     "execution_count": 107,
     "metadata": {},
     "output_type": "execute_result"
    }
   ],
   "source": [
    "#Total purchases by Gender\n",
    "total_purchase_gender=by_gender['Price'].sum()\n",
    "total_purchase_gender"
   ]
  },
  {
   "cell_type": "code",
   "execution_count": 108,
   "metadata": {},
   "outputs": [
    {
     "data": {
      "text/html": [
       "<div>\n",
       "<style scoped>\n",
       "    .dataframe tbody tr th:only-of-type {\n",
       "        vertical-align: middle;\n",
       "    }\n",
       "\n",
       "    .dataframe tbody tr th {\n",
       "        vertical-align: top;\n",
       "    }\n",
       "\n",
       "    .dataframe thead th {\n",
       "        text-align: right;\n",
       "    }\n",
       "</style>\n",
       "<table border=\"1\" class=\"dataframe\">\n",
       "  <thead>\n",
       "    <tr style=\"text-align: right;\">\n",
       "      <th></th>\n",
       "      <th>Purchase Count</th>\n",
       "      <th>Average Purchase Price</th>\n",
       "      <th>Total Purchase Value</th>\n",
       "      <th>Avg Total Purchase per Person</th>\n",
       "    </tr>\n",
       "  </thead>\n",
       "  <tbody>\n",
       "    <tr>\n",
       "      <th>Female</th>\n",
       "      <td>113</td>\n",
       "      <td>3.203009</td>\n",
       "      <td>361.94</td>\n",
       "      <td>4.468395</td>\n",
       "    </tr>\n",
       "    <tr>\n",
       "      <th>Male</th>\n",
       "      <td>652</td>\n",
       "      <td>3.017853</td>\n",
       "      <td>1967.64</td>\n",
       "      <td>4.065372</td>\n",
       "    </tr>\n",
       "    <tr>\n",
       "      <th>Other / Non-Disclosed</th>\n",
       "      <td>15</td>\n",
       "      <td>3.346000</td>\n",
       "      <td>50.19</td>\n",
       "      <td>4.562727</td>\n",
       "    </tr>\n",
       "  </tbody>\n",
       "</table>\n",
       "</div>"
      ],
      "text/plain": [
       "                       Purchase Count  Average Purchase Price  \\\n",
       "Female                            113                3.203009   \n",
       "Male                              652                3.017853   \n",
       "Other / Non-Disclosed              15                3.346000   \n",
       "\n",
       "                       Total Purchase Value  Avg Total Purchase per Person  \n",
       "Female                               361.94                       4.468395  \n",
       "Male                                1967.64                       4.065372  \n",
       "Other / Non-Disclosed                 50.19                       4.562727  "
      ]
     },
     "execution_count": 108,
     "metadata": {},
     "output_type": "execute_result"
    }
   ],
   "source": [
    "gender_purchase_df=pd.DataFrame({\"Purchase Count\":purchase_count_gender,\n",
    "                                \"Average Purchase Price\":avg_price_gender,\n",
    "                                 \"Total Purchase Value\":total_purchase_gender,\n",
    "                                \"Avg Total Purchase per Person\":(total_purchase_gender/demographics_df['Total Count'])},\n",
    "                                index=[\"Female\",\"Male\",\"Other / Non-Disclosed\"],\n",
    "                                columns=['Purchase Count','Average Purchase Price','Total Purchase Value','Avg Total Purchase per Person']\n",
    "                               )\n",
    "gender_purchase_df"
   ]
  },
  {
   "cell_type": "code",
   "execution_count": 109,
   "metadata": {},
   "outputs": [],
   "source": [
    "bins=[0,9,14,19,24,29,34,39,150]\n",
    "labels=[\"<10\",\"10-14\",\"15-19\",\"20-24\",\"25-29\",\"30-34\",\"35-39\",\"40+\"]"
   ]
  },
  {
   "cell_type": "code",
   "execution_count": 110,
   "metadata": {},
   "outputs": [],
   "source": [
    "df['Age Bracket']=pd.cut(df[\"Age\"], bins, labels=labels)"
   ]
  },
  {
   "cell_type": "code",
   "execution_count": 111,
   "metadata": {},
   "outputs": [],
   "source": [
    "age_group_purchases=df.groupby(['Age Bracket'])"
   ]
  },
  {
   "cell_type": "code",
   "execution_count": 112,
   "metadata": {},
   "outputs": [
    {
     "data": {
      "text/plain": [
       "Age Bracket\n",
       "<10       17\n",
       "10-14     22\n",
       "15-19    107\n",
       "20-24    258\n",
       "25-29     77\n",
       "30-34     52\n",
       "35-39     31\n",
       "40+       12\n",
       "Name: SN, dtype: int64"
      ]
     },
     "execution_count": 112,
     "metadata": {},
     "output_type": "execute_result"
    }
   ],
   "source": [
    "age_group=age_group_purchases['SN'].nunique()\n",
    "age_group"
   ]
  },
  {
   "cell_type": "code",
   "execution_count": 113,
   "metadata": {},
   "outputs": [
    {
     "data": {
      "text/html": [
       "<div>\n",
       "<style scoped>\n",
       "    .dataframe tbody tr th:only-of-type {\n",
       "        vertical-align: middle;\n",
       "    }\n",
       "\n",
       "    .dataframe tbody tr th {\n",
       "        vertical-align: top;\n",
       "    }\n",
       "\n",
       "    .dataframe thead th {\n",
       "        text-align: right;\n",
       "    }\n",
       "</style>\n",
       "<table border=\"1\" class=\"dataframe\">\n",
       "  <thead>\n",
       "    <tr style=\"text-align: right;\">\n",
       "      <th></th>\n",
       "      <th>Total Count</th>\n",
       "      <th>Percentage of Players</th>\n",
       "    </tr>\n",
       "    <tr>\n",
       "      <th>Age Bracket</th>\n",
       "      <th></th>\n",
       "      <th></th>\n",
       "    </tr>\n",
       "  </thead>\n",
       "  <tbody>\n",
       "    <tr>\n",
       "      <th>&lt;10</th>\n",
       "      <td>17</td>\n",
       "      <td>0.029514</td>\n",
       "    </tr>\n",
       "    <tr>\n",
       "      <th>10-14</th>\n",
       "      <td>22</td>\n",
       "      <td>0.038194</td>\n",
       "    </tr>\n",
       "    <tr>\n",
       "      <th>15-19</th>\n",
       "      <td>107</td>\n",
       "      <td>0.185764</td>\n",
       "    </tr>\n",
       "    <tr>\n",
       "      <th>20-24</th>\n",
       "      <td>258</td>\n",
       "      <td>0.447917</td>\n",
       "    </tr>\n",
       "    <tr>\n",
       "      <th>25-29</th>\n",
       "      <td>77</td>\n",
       "      <td>0.133681</td>\n",
       "    </tr>\n",
       "    <tr>\n",
       "      <th>30-34</th>\n",
       "      <td>52</td>\n",
       "      <td>0.090278</td>\n",
       "    </tr>\n",
       "    <tr>\n",
       "      <th>35-39</th>\n",
       "      <td>31</td>\n",
       "      <td>0.053819</td>\n",
       "    </tr>\n",
       "    <tr>\n",
       "      <th>40+</th>\n",
       "      <td>12</td>\n",
       "      <td>0.020833</td>\n",
       "    </tr>\n",
       "  </tbody>\n",
       "</table>\n",
       "</div>"
      ],
      "text/plain": [
       "             Total Count  Percentage of Players\n",
       "Age Bracket                                    \n",
       "<10                   17               0.029514\n",
       "10-14                 22               0.038194\n",
       "15-19                107               0.185764\n",
       "20-24                258               0.447917\n",
       "25-29                 77               0.133681\n",
       "30-34                 52               0.090278\n",
       "35-39                 31               0.053819\n",
       "40+                   12               0.020833"
      ]
     },
     "execution_count": 113,
     "metadata": {},
     "output_type": "execute_result"
    }
   ],
   "source": [
    "age_group_df=pd.DataFrame({\"Total Count\":age_group,\n",
    "                           \"Percentage of Players\":\n",
    "                           (age_group/player_count)},\n",
    "                         index=age_group.index,\n",
    "                         columns=[\"Total Count\",\"Percentage of Players\"])\n",
    "age_group_df"
   ]
  },
  {
   "cell_type": "code",
   "execution_count": 114,
   "metadata": {},
   "outputs": [
    {
     "data": {
      "text/plain": [
       "Age Bracket\n",
       "<10       23\n",
       "10-14     28\n",
       "15-19    136\n",
       "20-24    365\n",
       "25-29    101\n",
       "30-34     73\n",
       "35-39     41\n",
       "40+       13\n",
       "Name: Purchase ID, dtype: int64"
      ]
     },
     "execution_count": 114,
     "metadata": {},
     "output_type": "execute_result"
    }
   ],
   "source": [
    "purchase_count_age=age_group_purchases['Purchase ID'].count()\n",
    "purchase_count_age"
   ]
  },
  {
   "cell_type": "code",
   "execution_count": 115,
   "metadata": {},
   "outputs": [
    {
     "data": {
      "text/plain": [
       "Age Bracket\n",
       "<10      3.353478\n",
       "10-14    2.956429\n",
       "15-19    3.035956\n",
       "20-24    3.052219\n",
       "25-29    2.900990\n",
       "30-34    2.931507\n",
       "35-39    3.601707\n",
       "40+      2.941538\n",
       "Name: Price, dtype: float64"
      ]
     },
     "execution_count": 115,
     "metadata": {},
     "output_type": "execute_result"
    }
   ],
   "source": [
    "avg_purchase_age=age_group_purchases['Price'].mean()\n",
    "avg_purchase_age"
   ]
  },
  {
   "cell_type": "code",
   "execution_count": 116,
   "metadata": {},
   "outputs": [
    {
     "data": {
      "text/plain": [
       "Age Bracket\n",
       "<10        77.13\n",
       "10-14      82.78\n",
       "15-19     412.89\n",
       "20-24    1114.06\n",
       "25-29     293.00\n",
       "30-34     214.00\n",
       "35-39     147.67\n",
       "40+        38.24\n",
       "Name: Price, dtype: float64"
      ]
     },
     "execution_count": 116,
     "metadata": {},
     "output_type": "execute_result"
    }
   ],
   "source": [
    "total_purchase_age=age_group_purchases['Price'].sum()\n",
    "total_purchase_age"
   ]
  },
  {
   "cell_type": "code",
   "execution_count": 117,
   "metadata": {},
   "outputs": [
    {
     "data": {
      "text/html": [
       "<div>\n",
       "<style scoped>\n",
       "    .dataframe tbody tr th:only-of-type {\n",
       "        vertical-align: middle;\n",
       "    }\n",
       "\n",
       "    .dataframe tbody tr th {\n",
       "        vertical-align: top;\n",
       "    }\n",
       "\n",
       "    .dataframe thead th {\n",
       "        text-align: right;\n",
       "    }\n",
       "</style>\n",
       "<table border=\"1\" class=\"dataframe\">\n",
       "  <thead>\n",
       "    <tr style=\"text-align: right;\">\n",
       "      <th></th>\n",
       "      <th>Purchase Count</th>\n",
       "      <th>Average Purchase Price</th>\n",
       "      <th>Total Purchase Value</th>\n",
       "      <th>Avg Total Purchase per Person</th>\n",
       "    </tr>\n",
       "    <tr>\n",
       "      <th>Age Bracket</th>\n",
       "      <th></th>\n",
       "      <th></th>\n",
       "      <th></th>\n",
       "      <th></th>\n",
       "    </tr>\n",
       "  </thead>\n",
       "  <tbody>\n",
       "    <tr>\n",
       "      <th>&lt;10</th>\n",
       "      <td>23</td>\n",
       "      <td>3.353478</td>\n",
       "      <td>77.13</td>\n",
       "      <td>4.537059</td>\n",
       "    </tr>\n",
       "    <tr>\n",
       "      <th>10-14</th>\n",
       "      <td>28</td>\n",
       "      <td>2.956429</td>\n",
       "      <td>82.78</td>\n",
       "      <td>3.762727</td>\n",
       "    </tr>\n",
       "    <tr>\n",
       "      <th>15-19</th>\n",
       "      <td>136</td>\n",
       "      <td>3.035956</td>\n",
       "      <td>412.89</td>\n",
       "      <td>3.858785</td>\n",
       "    </tr>\n",
       "    <tr>\n",
       "      <th>20-24</th>\n",
       "      <td>365</td>\n",
       "      <td>3.052219</td>\n",
       "      <td>1114.06</td>\n",
       "      <td>4.318062</td>\n",
       "    </tr>\n",
       "    <tr>\n",
       "      <th>25-29</th>\n",
       "      <td>101</td>\n",
       "      <td>2.900990</td>\n",
       "      <td>293.00</td>\n",
       "      <td>3.805195</td>\n",
       "    </tr>\n",
       "    <tr>\n",
       "      <th>30-34</th>\n",
       "      <td>73</td>\n",
       "      <td>2.931507</td>\n",
       "      <td>214.00</td>\n",
       "      <td>4.115385</td>\n",
       "    </tr>\n",
       "    <tr>\n",
       "      <th>35-39</th>\n",
       "      <td>41</td>\n",
       "      <td>3.601707</td>\n",
       "      <td>147.67</td>\n",
       "      <td>4.763548</td>\n",
       "    </tr>\n",
       "    <tr>\n",
       "      <th>40+</th>\n",
       "      <td>13</td>\n",
       "      <td>2.941538</td>\n",
       "      <td>38.24</td>\n",
       "      <td>3.186667</td>\n",
       "    </tr>\n",
       "  </tbody>\n",
       "</table>\n",
       "</div>"
      ],
      "text/plain": [
       "             Purchase Count  Average Purchase Price  Total Purchase Value  \\\n",
       "Age Bracket                                                                 \n",
       "<10                      23                3.353478                 77.13   \n",
       "10-14                    28                2.956429                 82.78   \n",
       "15-19                   136                3.035956                412.89   \n",
       "20-24                   365                3.052219               1114.06   \n",
       "25-29                   101                2.900990                293.00   \n",
       "30-34                    73                2.931507                214.00   \n",
       "35-39                    41                3.601707                147.67   \n",
       "40+                      13                2.941538                 38.24   \n",
       "\n",
       "             Avg Total Purchase per Person  \n",
       "Age Bracket                                 \n",
       "<10                               4.537059  \n",
       "10-14                             3.762727  \n",
       "15-19                             3.858785  \n",
       "20-24                             4.318062  \n",
       "25-29                             3.805195  \n",
       "30-34                             4.115385  \n",
       "35-39                             4.763548  \n",
       "40+                               3.186667  "
      ]
     },
     "execution_count": 117,
     "metadata": {},
     "output_type": "execute_result"
    }
   ],
   "source": [
    "age_purchase_df=pd.DataFrame({\"Purchase Count\":purchase_count_age,\n",
    "                                \"Average Purchase Price\":avg_purchase_age,\n",
    "                                 \"Total Purchase Value\":total_purchase_age,\n",
    "                                \"Avg Total Purchase per Person\":(total_purchase_age/age_group_df['Total Count'])},\n",
    "                                index=age_group.index,\n",
    "                                columns=['Purchase Count','Average Purchase Price','Total Purchase Value','Avg Total Purchase per Person']\n",
    "                               )\n",
    "age_purchase_df"
   ]
  },
  {
   "cell_type": "code",
   "execution_count": null,
   "metadata": {},
   "outputs": [],
   "source": []
  },
  {
   "cell_type": "code",
   "execution_count": 118,
   "metadata": {},
   "outputs": [],
   "source": [
    "top_users_df=df.groupby('SN')['Price'].agg(['sum','count']).sort_values(by=['sum'], ascending=False)\n",
    "top_users_df=top_users_df.rename(columns= {'sum':'Total Purchase Value','count':'Purchase Count'}) \n",
    "                 "
   ]
  },
  {
   "cell_type": "code",
   "execution_count": 142,
   "metadata": {},
   "outputs": [],
   "source": [
    "top_users_df['Average Purchase Price']=top_users_df['Total Purchase Value']/top_users_df[\"Purchase Count\"]\n"
   ]
  },
  {
   "cell_type": "code",
   "execution_count": 143,
   "metadata": {},
   "outputs": [
    {
     "data": {
      "text/html": [
       "<div>\n",
       "<style scoped>\n",
       "    .dataframe tbody tr th:only-of-type {\n",
       "        vertical-align: middle;\n",
       "    }\n",
       "\n",
       "    .dataframe tbody tr th {\n",
       "        vertical-align: top;\n",
       "    }\n",
       "\n",
       "    .dataframe thead th {\n",
       "        text-align: right;\n",
       "    }\n",
       "</style>\n",
       "<table border=\"1\" class=\"dataframe\">\n",
       "  <thead>\n",
       "    <tr style=\"text-align: right;\">\n",
       "      <th></th>\n",
       "      <th>Purchase Count</th>\n",
       "      <th>Average Purchase Price</th>\n",
       "      <th>Total Purchase Value</th>\n",
       "    </tr>\n",
       "    <tr>\n",
       "      <th>SN</th>\n",
       "      <th></th>\n",
       "      <th></th>\n",
       "      <th></th>\n",
       "    </tr>\n",
       "  </thead>\n",
       "  <tbody>\n",
       "    <tr>\n",
       "      <th>Lisosia93</th>\n",
       "      <td>5</td>\n",
       "      <td>3.792000</td>\n",
       "      <td>18.96</td>\n",
       "    </tr>\n",
       "    <tr>\n",
       "      <th>Idastidru52</th>\n",
       "      <td>4</td>\n",
       "      <td>3.862500</td>\n",
       "      <td>15.45</td>\n",
       "    </tr>\n",
       "    <tr>\n",
       "      <th>Chamjask73</th>\n",
       "      <td>3</td>\n",
       "      <td>4.610000</td>\n",
       "      <td>13.83</td>\n",
       "    </tr>\n",
       "    <tr>\n",
       "      <th>Iral74</th>\n",
       "      <td>4</td>\n",
       "      <td>3.405000</td>\n",
       "      <td>13.62</td>\n",
       "    </tr>\n",
       "    <tr>\n",
       "      <th>Iskadarya95</th>\n",
       "      <td>3</td>\n",
       "      <td>4.366667</td>\n",
       "      <td>13.10</td>\n",
       "    </tr>\n",
       "  </tbody>\n",
       "</table>\n",
       "</div>"
      ],
      "text/plain": [
       "             Purchase Count  Average Purchase Price  Total Purchase Value\n",
       "SN                                                                       \n",
       "Lisosia93                 5                3.792000                 18.96\n",
       "Idastidru52               4                3.862500                 15.45\n",
       "Chamjask73                3                4.610000                 13.83\n",
       "Iral74                    4                3.405000                 13.62\n",
       "Iskadarya95               3                4.366667                 13.10"
      ]
     },
     "execution_count": 143,
     "metadata": {},
     "output_type": "execute_result"
    }
   ],
   "source": [
    "top_users_df=top_users_df[['Purchase Count', 'Average Purchase Price', 'Total Purchase Value']]\n",
    "top_users_df.head() "
   ]
  },
  {
   "cell_type": "code",
   "execution_count": 149,
   "metadata": {},
   "outputs": [],
   "source": [
    "pop_items =df[['Item ID', 'Item Name', 'Price']] \n"
   ]
  },
  {
   "cell_type": "code",
   "execution_count": 189,
   "metadata": {},
   "outputs": [],
   "source": [
    "pop_items_sum=pop_items.groupby(['Item ID','Item Name','Price'])['Price'].agg(['count','sum']).sort_values(by=['count'], ascending=False)\n"
   ]
  },
  {
   "cell_type": "code",
   "execution_count": 192,
   "metadata": {},
   "outputs": [
    {
     "data": {
      "text/html": [
       "<div>\n",
       "<style scoped>\n",
       "    .dataframe tbody tr th:only-of-type {\n",
       "        vertical-align: middle;\n",
       "    }\n",
       "\n",
       "    .dataframe tbody tr th {\n",
       "        vertical-align: top;\n",
       "    }\n",
       "\n",
       "    .dataframe thead th {\n",
       "        text-align: right;\n",
       "    }\n",
       "</style>\n",
       "<table border=\"1\" class=\"dataframe\">\n",
       "  <thead>\n",
       "    <tr style=\"text-align: right;\">\n",
       "      <th></th>\n",
       "      <th></th>\n",
       "      <th></th>\n",
       "      <th>Purchase Count</th>\n",
       "      <th>Total Purchase Value</th>\n",
       "    </tr>\n",
       "    <tr>\n",
       "      <th>Item ID</th>\n",
       "      <th>Item Name</th>\n",
       "      <th>Price</th>\n",
       "      <th></th>\n",
       "      <th></th>\n",
       "    </tr>\n",
       "  </thead>\n",
       "  <tbody>\n",
       "    <tr>\n",
       "      <th>178</th>\n",
       "      <th>Oathbreaker, Last Hope of the Breaking Storm</th>\n",
       "      <th>4.23</th>\n",
       "      <td>12</td>\n",
       "      <td>50.76</td>\n",
       "    </tr>\n",
       "    <tr>\n",
       "      <th>145</th>\n",
       "      <th>Fiery Glass Crusader</th>\n",
       "      <th>4.58</th>\n",
       "      <td>9</td>\n",
       "      <td>41.22</td>\n",
       "    </tr>\n",
       "    <tr>\n",
       "      <th>108</th>\n",
       "      <th>Extraction, Quickblade Of Trembling Hands</th>\n",
       "      <th>3.53</th>\n",
       "      <td>9</td>\n",
       "      <td>31.77</td>\n",
       "    </tr>\n",
       "    <tr>\n",
       "      <th>82</th>\n",
       "      <th>Nirvana</th>\n",
       "      <th>4.90</th>\n",
       "      <td>9</td>\n",
       "      <td>44.10</td>\n",
       "    </tr>\n",
       "    <tr>\n",
       "      <th>19</th>\n",
       "      <th>Pursuit, Cudgel of Necromancy</th>\n",
       "      <th>1.02</th>\n",
       "      <td>8</td>\n",
       "      <td>8.16</td>\n",
       "    </tr>\n",
       "  </tbody>\n",
       "</table>\n",
       "</div>"
      ],
      "text/plain": [
       "                                                            Purchase Count  \\\n",
       "Item ID Item Name                                    Price                   \n",
       "178     Oathbreaker, Last Hope of the Breaking Storm 4.23               12   \n",
       "145     Fiery Glass Crusader                         4.58                9   \n",
       "108     Extraction, Quickblade Of Trembling Hands    3.53                9   \n",
       "82      Nirvana                                      4.90                9   \n",
       "19      Pursuit, Cudgel of Necromancy                1.02                8   \n",
       "\n",
       "                                                            Total Purchase Value  \n",
       "Item ID Item Name                                    Price                        \n",
       "178     Oathbreaker, Last Hope of the Breaking Storm 4.23                  50.76  \n",
       "145     Fiery Glass Crusader                         4.58                  41.22  \n",
       "108     Extraction, Quickblade Of Trembling Hands    3.53                  31.77  \n",
       "82      Nirvana                                      4.90                  44.10  \n",
       "19      Pursuit, Cudgel of Necromancy                1.02                   8.16  "
      ]
     },
     "execution_count": 192,
     "metadata": {},
     "output_type": "execute_result"
    }
   ],
   "source": [
    "pop_items_sum=pop_items_sum.rename(columns={\"count\":\"Purchase Count\", \"sum\": \"Total Purchase Value\"})\n",
    "\n",
    "pop_items_sum.head()"
   ]
  },
  {
   "cell_type": "code",
   "execution_count": 194,
   "metadata": {},
   "outputs": [],
   "source": [
    "profitable_items=pop_items_sum.sort_values(by=['Total Purchase Value'], ascending=False)"
   ]
  },
  {
   "cell_type": "code",
   "execution_count": 195,
   "metadata": {},
   "outputs": [
    {
     "data": {
      "text/html": [
       "<div>\n",
       "<style scoped>\n",
       "    .dataframe tbody tr th:only-of-type {\n",
       "        vertical-align: middle;\n",
       "    }\n",
       "\n",
       "    .dataframe tbody tr th {\n",
       "        vertical-align: top;\n",
       "    }\n",
       "\n",
       "    .dataframe thead th {\n",
       "        text-align: right;\n",
       "    }\n",
       "</style>\n",
       "<table border=\"1\" class=\"dataframe\">\n",
       "  <thead>\n",
       "    <tr style=\"text-align: right;\">\n",
       "      <th></th>\n",
       "      <th></th>\n",
       "      <th></th>\n",
       "      <th>Purchase Count</th>\n",
       "      <th>Total Purchase Value</th>\n",
       "    </tr>\n",
       "    <tr>\n",
       "      <th>Item ID</th>\n",
       "      <th>Item Name</th>\n",
       "      <th>Price</th>\n",
       "      <th></th>\n",
       "      <th></th>\n",
       "    </tr>\n",
       "  </thead>\n",
       "  <tbody>\n",
       "    <tr>\n",
       "      <th>178</th>\n",
       "      <th>Oathbreaker, Last Hope of the Breaking Storm</th>\n",
       "      <th>4.23</th>\n",
       "      <td>12</td>\n",
       "      <td>50.76</td>\n",
       "    </tr>\n",
       "    <tr>\n",
       "      <th>82</th>\n",
       "      <th>Nirvana</th>\n",
       "      <th>4.90</th>\n",
       "      <td>9</td>\n",
       "      <td>44.10</td>\n",
       "    </tr>\n",
       "    <tr>\n",
       "      <th>145</th>\n",
       "      <th>Fiery Glass Crusader</th>\n",
       "      <th>4.58</th>\n",
       "      <td>9</td>\n",
       "      <td>41.22</td>\n",
       "    </tr>\n",
       "    <tr>\n",
       "      <th>92</th>\n",
       "      <th>Final Critic</th>\n",
       "      <th>4.88</th>\n",
       "      <td>8</td>\n",
       "      <td>39.04</td>\n",
       "    </tr>\n",
       "    <tr>\n",
       "      <th>103</th>\n",
       "      <th>Singed Scalpel</th>\n",
       "      <th>4.35</th>\n",
       "      <td>8</td>\n",
       "      <td>34.80</td>\n",
       "    </tr>\n",
       "  </tbody>\n",
       "</table>\n",
       "</div>"
      ],
      "text/plain": [
       "                                                            Purchase Count  \\\n",
       "Item ID Item Name                                    Price                   \n",
       "178     Oathbreaker, Last Hope of the Breaking Storm 4.23               12   \n",
       "82      Nirvana                                      4.90                9   \n",
       "145     Fiery Glass Crusader                         4.58                9   \n",
       "92      Final Critic                                 4.88                8   \n",
       "103     Singed Scalpel                               4.35                8   \n",
       "\n",
       "                                                            Total Purchase Value  \n",
       "Item ID Item Name                                    Price                        \n",
       "178     Oathbreaker, Last Hope of the Breaking Storm 4.23                  50.76  \n",
       "82      Nirvana                                      4.90                  44.10  \n",
       "145     Fiery Glass Crusader                         4.58                  41.22  \n",
       "92      Final Critic                                 4.88                  39.04  \n",
       "103     Singed Scalpel                               4.35                  34.80  "
      ]
     },
     "execution_count": 195,
     "metadata": {},
     "output_type": "execute_result"
    }
   ],
   "source": [
    "profitable_items.head()"
   ]
  },
  {
   "cell_type": "code",
   "execution_count": null,
   "metadata": {},
   "outputs": [],
   "source": []
  }
 ],
 "metadata": {
  "kernelspec": {
   "display_name": "Python 3",
   "language": "python",
   "name": "python3"
  },
  "language_info": {
   "codemirror_mode": {
    "name": "ipython",
    "version": 3
   },
   "file_extension": ".py",
   "mimetype": "text/x-python",
   "name": "python",
   "nbconvert_exporter": "python",
   "pygments_lexer": "ipython3",
   "version": "3.6.3"
  }
 },
 "nbformat": 4,
 "nbformat_minor": 2
}
